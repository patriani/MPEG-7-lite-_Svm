{
  "cells": [
    {
      "cell_type": "markdown",
      "metadata": {
        "id": "view-in-github",
        "colab_type": "text"
      },
      "source": [
        "<a href=\"https://colab.research.google.com/github/patriani/MPEG-7_lite-Svm/blob/main/SVM.ipynb\" target=\"_parent\"><img src=\"https://colab.research.google.com/assets/colab-badge.svg\" alt=\"Open In Colab\"/></a>"
      ]
    },
    {
      "cell_type": "code",
      "execution_count": null,
      "metadata": {
        "colab": {
          "base_uri": "https://localhost:8080/"
        },
        "id": "kdjFw8iNHZGp",
        "outputId": "61691c73-be80-4457-d4b7-df07d33a7de3"
      },
      "outputs": [
        {
          "output_type": "stream",
          "name": "stdout",
          "text": [
            "Mounted at /content/drive\n"
          ]
        }
      ],
      "source": [
        "from google.colab import drive\n",
        "drive.mount('/content/drive')"
      ]
    },
    {
      "cell_type": "code",
      "execution_count": null,
      "metadata": {
        "id": "I53YFgNtdek8"
      },
      "outputs": [],
      "source": [
        "import os \n",
        "from skimage import data, color, util, io, transform\n",
        "from skimage.measure import label, regionprops, regionprops_table\n",
        "import pandas as pd\n",
        "import numpy as np\n",
        "import matplotlib.pyplot as plt\n",
        "from sklearn import model_selection, svm\n",
        "from sklearn.svm import SVC\n",
        "from sklearn.metrics import plot_confusion_matrix, precision_score, recall_score, accuracy_score, f1_score\n",
        "import scipy.stats as stats\n",
        "\n",
        "np.random.seed(393) # seed de aleatoriedade prédefinida para replicar os resultados obtidos"
      ]
    },
    {
      "cell_type": "markdown",
      "metadata": {
        "id": "hc6K_skp4S2_"
      },
      "source": [
        "Para conhecer as características das imagens de cada classe e definir as caracerísticas a serem extraídas alguns testes foram feitos por meio da média e do desvio padrão. \n",
        "\n",
        "As propriedades extraídas estão listadas na documentação de skimage.measure.regionprops() e foram analisadas por meio do df.describe(), método da biblioteca pandas . O intuito deste passo é a decisão de quais características podem diferenciar classes das imagens com maior eficiência. Nota-se também que as classes disponíveis se apresentam em: maçã (*apple*), osso (*bone*), besouro (*beetle*) e morcego (*bat*).\n",
        "\n",
        "> Classes:\n",
        "0.   apple;\n",
        "1.   bat;\n",
        "2.   beetle;\n",
        "3.   bone.\n",
        "\n",
        "Próximos Passos:\n",
        "\n",
        "0.   Analisar o contexto para decidir quais características serão consideradas pelo algoritmo;\n",
        "1.   Organizar os conjuntos de Treino e Teste em DataFrames, da biblioteca pandas;\n",
        "2.   Normalizar os parâmetros (Z-score);\n",
        "3.   Aplicar o SVM em ciclos para otimização dos parâmetros;\n",
        "3.   Validar o modelo;\n",
        "4.   Imprimir matriz de Confusão para treino (504 imagens) e de teste (216 imagens).\n",
        "5. Analisar os resultados.\n",
        "\n",
        "OBS: Foi definido o argumento random_state=393 para replicação dos resultados\n"
      ]
    },
    {
      "cell_type": "code",
      "execution_count": null,
      "metadata": {
        "id": "mSBzjb_Xf6Iw",
        "colab": {
          "base_uri": "https://localhost:8080/"
        },
        "outputId": "286393cc-ced1-435d-a3c5-3efc4fe6055e"
      },
      "outputs": [
        {
          "output_type": "stream",
          "name": "stdout",
          "text": [
            "     major_axis_length  minor_axis_length  euler_number  eccentricity  \\\n",
            "0            95.191371          49.793967            -1      0.852275   \n",
            "1           178.893989         143.120961             1      0.599957   \n",
            "2           148.953985          90.010876             1      0.796767   \n",
            "3           112.621111          64.170198            -1      0.821791   \n",
            "4           107.227200          90.270861             1      0.539688   \n",
            "..                 ...                ...           ...           ...   \n",
            "121         184.653420         130.951270             0      0.705034   \n",
            "122         117.650008          86.718927             1      0.675792   \n",
            "123         128.866456          93.359927            -2      0.689306   \n",
            "124         199.064889         188.622634             1      0.319627   \n",
            "125         158.806728         127.079014            -2      0.599718   \n",
            "\n",
            "       extent  solidity  Labels  \n",
            "0    0.543325  0.920861       0  \n",
            "1    0.693559  0.937591       0  \n",
            "2    0.657456  0.967900       0  \n",
            "3    0.635675  0.940717       0  \n",
            "4    0.702675  0.928792       0  \n",
            "..        ...       ...     ...  \n",
            "121  0.685827  0.908912       0  \n",
            "122  0.686684  0.898984       0  \n",
            "123  0.679367  0.899498       0  \n",
            "124  0.688534  0.901177       0  \n",
            "125  0.728712  0.929125       0  \n",
            "\n",
            "[126 rows x 7 columns]\n",
            "       major_axis_length  minor_axis_length  euler_number  eccentricity  \\\n",
            "count         126.000000         126.000000    126.000000    126.000000   \n",
            "mean          148.245424         108.367940      0.349206      0.646418   \n",
            "std            41.935230          42.550442      1.022291      0.188495   \n",
            "min            14.969077           2.039150     -3.000000      0.159549   \n",
            "25%           117.212078          78.610618      0.000000      0.512190   \n",
            "50%           142.976055          97.406017      1.000000      0.685970   \n",
            "75%           170.898244         127.107584      1.000000      0.796001   \n",
            "max           248.735082         211.800229      1.000000      0.990678   \n",
            "\n",
            "           extent    solidity  Labels  \n",
            "count  126.000000  126.000000   126.0  \n",
            "mean     0.667265    0.912035     0.0  \n",
            "std      0.065740    0.028670     0.0  \n",
            "min      0.203704    0.733333     0.0  \n",
            "25%      0.645527    0.894604     0.0  \n",
            "50%      0.676703    0.910406     0.0  \n",
            "75%      0.701105    0.929176     0.0  \n",
            "max      0.797085    0.969620     0.0  \n"
          ]
        }
      ],
      "source": [
        "## Análise de características da classe maçã\n",
        "\n",
        "directory = 'drive/MyDrive/Visão/Train/apple'\n",
        "apple = pd.DataFrame(0,index=range(0,126),columns=['major_axis_length','minor_axis_length','euler_number','eccentricity','extent','solidity'])\n",
        "index=0\n",
        "for filename in os.scandir(directory):\n",
        "    if filename.is_file(): \n",
        "      img = io.imread(filename.path)\n",
        "      label_img = label(img)\n",
        "      props = regionprops_table(label_img, properties=['major_axis_length','minor_axis_length','euler_number','eccentricity','extent','solidity'])\n",
        "      df1=pd.DataFrame(props)\n",
        "      apple.iloc[index] = df1.iloc[0]\n",
        "      index+=1\n",
        "\n",
        "# apple = apple.drop(columns=['Labels']).copy\n",
        "labels = pd.DataFrame(0,index=range(0,126),columns=['Labels']) \n",
        "labels.Labels = int(0)\n",
        "apple['Labels'] = labels #cria uma coluna de labels com 0 para todas as maçãs\n",
        "\n",
        "print(apple)\n",
        "print(apple.describe()) ## solidity é o que melhor descreve a maçã"
      ]
    },
    {
      "cell_type": "markdown",
      "metadata": {
        "id": "yLFZ3I15pVUz"
      },
      "source": [
        "Decidimos observando a média e desvio padrão que as celuas são as melhores, euler_number, eccentricity, Extent, Solidity, labels"
      ]
    },
    {
      "cell_type": "code",
      "execution_count": null,
      "metadata": {
        "id": "T5JrxzSHqnK7",
        "colab": {
          "base_uri": "https://localhost:8080/"
        },
        "outputId": "0a3aa573-248d-41d6-9cb9-3daae355bcea"
      },
      "outputs": [
        {
          "output_type": "stream",
          "name": "stdout",
          "text": [
            "     major_axis_length  minor_axis_length  euler_number  eccentricity  \\\n",
            "0           197.340256         123.876253             1      0.778432   \n",
            "1           256.870111         122.207489             0      0.879577   \n",
            "2           458.056611         174.539299             1      0.924557   \n",
            "3           449.553924         135.428975            -1      0.953545   \n",
            "4           247.610496          74.369686             1      0.953829   \n",
            "..                 ...                ...           ...           ...   \n",
            "121         380.014816         146.175092             0      0.923060   \n",
            "122         463.157977         221.446023             0      0.878293   \n",
            "123         275.114716         156.807603             1      0.821664   \n",
            "124         385.065557         147.840874             1      0.923359   \n",
            "125         329.578536         170.612656             1      0.855581   \n",
            "\n",
            "       extent  solidity  Labels  \n",
            "0    0.434965  0.705202       1  \n",
            "1    0.343841  0.683608       1  \n",
            "2    0.429378  0.710555       1  \n",
            "3    0.218128  0.466243       1  \n",
            "4    0.318160  0.624518       1  \n",
            "..        ...       ...     ...  \n",
            "121  0.236870  0.463809       1  \n",
            "122  0.239112  0.467581       1  \n",
            "123  0.405521  0.645308       1  \n",
            "124  0.336478  0.671155       1  \n",
            "125  0.384133  0.640161       1  \n",
            "\n",
            "[126 rows x 7 columns]\n",
            "       major_axis_length  minor_axis_length  euler_number  eccentricity  \\\n",
            "count         126.000000         126.000000    126.000000    126.000000   \n",
            "mean          358.958185         149.747277     -0.325397      0.887065   \n",
            "std           131.403891          65.622476      1.938368      0.091167   \n",
            "min           135.785315          41.357543     -9.000000      0.438846   \n",
            "25%           263.730247         106.745126     -1.000000      0.875653   \n",
            "50%           342.908105         137.444023      0.500000      0.910598   \n",
            "75%           424.821765         174.313004      1.000000      0.938580   \n",
            "max           707.303055         364.593250      1.000000      0.988735   \n",
            "\n",
            "           extent    solidity  Labels  \n",
            "count  126.000000  126.000000   126.0  \n",
            "mean     0.335111    0.640318     1.0  \n",
            "std      0.075193    0.073235     0.0  \n",
            "min      0.148773    0.463809     1.0  \n",
            "25%      0.302643    0.588489     1.0  \n",
            "50%      0.339286    0.656261     1.0  \n",
            "75%      0.377359    0.699562     1.0  \n",
            "max      0.558098    0.771001     1.0  \n"
          ]
        }
      ],
      "source": [
        "## Análise de características da classe morcego\n",
        "\n",
        "directory = 'drive/MyDrive/Visão/Train/bat'\n",
        "bat = pd.DataFrame(0,index=range(0,126),columns=['major_axis_length','minor_axis_length','euler_number','eccentricity','extent','solidity'])\n",
        "index=0\n",
        "for filename in os.scandir(directory): \n",
        "    if filename.is_file(): \n",
        "      img = io.imread(filename.path)\n",
        "      label_img = label(img)\n",
        "      props = regionprops_table(label_img, properties=['major_axis_length','minor_axis_length','euler_number','eccentricity','extent','solidity'])\n",
        "      df1=pd.DataFrame(props)\n",
        "      bat.iloc[index] = df1.iloc[0]\n",
        "      index+=1\n",
        "\n",
        "      \n",
        "labels = pd.DataFrame(0,index=range(0,126),columns=['Labels']) \n",
        "labels.Labels = 1\n",
        "bat['Labels'] = labels #cria uma coluna de labels com 1 para todos os morcegos\n",
        "\n",
        "print(bat)\n",
        "print(bat.describe()) ## solidity é o que melhor descreve a maçã"
      ]
    },
    {
      "cell_type": "code",
      "execution_count": null,
      "metadata": {
        "id": "ci6CXiMbpOgE",
        "colab": {
          "base_uri": "https://localhost:8080/"
        },
        "outputId": "2f8f62f6-77a6-49f6-d25c-b4f58b903ede"
      },
      "outputs": [
        {
          "output_type": "stream",
          "name": "stdout",
          "text": [
            "     major_axis_length  minor_axis_length  euler_number  eccentricity  \\\n",
            "0           167.574165          67.719023            -3      0.914709   \n",
            "1           169.900566          60.551611            -8      0.934336   \n",
            "2           165.063319          54.983081            -3      0.942890   \n",
            "3           127.375250          75.958653           -30      0.802734   \n",
            "4           131.396231          44.648139           -13      0.940499   \n",
            "..                 ...                ...           ...           ...   \n",
            "121         205.417879         118.922381           -30      0.815378   \n",
            "122         203.760482         156.929875            -9      0.637841   \n",
            "123         132.332693          46.711609            -7      0.935629   \n",
            "124         156.957187          64.801941            -7      0.910793   \n",
            "125         135.100057         127.972835           -16      0.320511   \n",
            "\n",
            "       extent  solidity  Labels  \n",
            "0    0.273130  0.450409       2  \n",
            "1    0.198294  0.373791       2  \n",
            "2    0.341031  0.428842       2  \n",
            "3    0.434400  0.658315       2  \n",
            "4    0.206840  0.472906       2  \n",
            "..        ...       ...     ...  \n",
            "121  0.530068  0.658368       2  \n",
            "122  0.341960  0.416289       2  \n",
            "123  0.310224  0.414628       2  \n",
            "124  0.193840  0.360703       2  \n",
            "125  0.260708  0.411765       2  \n",
            "\n",
            "[126 rows x 7 columns]\n",
            "       major_axis_length  minor_axis_length  euler_number  eccentricity  \\\n",
            "count         126.000000         126.000000    126.000000    126.000000   \n",
            "mean          167.608092          90.369725     -6.587302      0.794241   \n",
            "std            79.341237          43.415937      7.235767      0.144647   \n",
            "min            72.847092          37.103493    -31.000000      0.320511   \n",
            "25%           116.308157          60.707939     -9.000000      0.706797   \n",
            "50%           150.017644          78.995911     -4.000000      0.830036   \n",
            "75%           185.664220         109.387028     -2.000000      0.904639   \n",
            "max           566.784532         295.021651      1.000000      0.978107   \n",
            "\n",
            "           extent    solidity  Labels  \n",
            "count  126.000000  126.000000   126.0  \n",
            "mean     0.286663    0.441511     2.0  \n",
            "std      0.088803    0.093518     0.0  \n",
            "min      0.136675    0.329667     2.0  \n",
            "25%      0.225121    0.373898     2.0  \n",
            "50%      0.272558    0.418505     2.0  \n",
            "75%      0.330349    0.462198     2.0  \n",
            "max      0.593838    0.746155     2.0  \n"
          ]
        }
      ],
      "source": [
        "## Análise de características da classe besouro\n",
        "\n",
        "directory = 'drive/MyDrive/Visão/Train/beetle'\n",
        "beetle = pd.DataFrame(0,index=range(0,126),columns=['major_axis_length','minor_axis_length','euler_number','eccentricity','extent','solidity'])\n",
        "index=0\n",
        "for filename in os.scandir(directory): \n",
        "    if filename.is_file(): \n",
        "      img = io.imread(filename.path)\n",
        "      label_img = label(img)\n",
        "      props = regionprops_table(label_img, properties=['major_axis_length','minor_axis_length','euler_number','eccentricity','extent','solidity'])\n",
        "      df1=pd.DataFrame(props)\n",
        "      beetle.iloc[index] = df1.iloc[0]\n",
        "      index+=1\n",
        "\n",
        "labels = pd.DataFrame(0,index=range(0,126),columns=['Labels']) \n",
        "labels.Labels = 2\n",
        "beetle['Labels'] = labels #cria uma coluna de labels com 1 para todos os morcegos\n",
        "\n",
        "print(beetle)\n",
        "print(beetle.describe()) ## solidity é o que melhor descreve a maçã"
      ]
    },
    {
      "cell_type": "code",
      "execution_count": null,
      "metadata": {
        "colab": {
          "base_uri": "https://localhost:8080/"
        },
        "id": "EL5KlGdSqXiM",
        "outputId": "a6d073ec-6e4e-40a9-d185-b5642c2f889d"
      },
      "outputs": [
        {
          "output_type": "stream",
          "name": "stdout",
          "text": [
            "     major_axis_length  minor_axis_length  euler_number  eccentricity  \\\n",
            "0           603.453560         119.698667             1      0.980130   \n",
            "1           340.874400          31.762009             1      0.995649   \n",
            "2           345.200223          60.815311             1      0.984359   \n",
            "3           626.831738          64.203646             1      0.994741   \n",
            "4           283.137444          48.001326             1      0.985524   \n",
            "..                 ...                ...           ...           ...   \n",
            "121         399.827838          93.252053             1      0.972421   \n",
            "122         308.106393          73.535051             1      0.971101   \n",
            "123         403.668456          87.389657             1      0.976285   \n",
            "124         295.906537          69.044926             1      0.972397   \n",
            "125         315.271110          69.943481             1      0.975080   \n",
            "\n",
            "       extent  solidity  Labels  \n",
            "0    0.235211  0.595602       3  \n",
            "1    0.139221  0.465298       3  \n",
            "2    0.362302  0.469482       3  \n",
            "3    0.140367  0.480343       3  \n",
            "4    0.189013  0.472161       3  \n",
            "..        ...       ...     ...  \n",
            "121  0.215256  0.379960       3  \n",
            "122  0.374258  0.706230       3  \n",
            "123  0.218132  0.456831       3  \n",
            "124  0.227673  0.422486       3  \n",
            "125  0.345079  0.462323       3  \n",
            "\n",
            "[126 rows x 7 columns]\n",
            "       major_axis_length  minor_axis_length  euler_number  eccentricity  \\\n",
            "count         126.000000         126.000000    126.000000    126.000000   \n",
            "mean          371.080182          65.059016      0.952381      0.980001   \n",
            "std           134.435759          28.104255      0.213809      0.015764   \n",
            "min           183.225974          21.120303      0.000000      0.926811   \n",
            "25%           267.143220          42.494928      1.000000      0.972452   \n",
            "50%           340.780407          61.715968      1.000000      0.985525   \n",
            "75%           437.652284          79.763641      1.000000      0.991351   \n",
            "max           669.181332         149.189561      1.000000      0.998530   \n",
            "\n",
            "           extent    solidity  Labels  \n",
            "count  126.000000  126.000000   126.0  \n",
            "mean     0.250308    0.503937     3.0  \n",
            "std      0.094305    0.091489     0.0  \n",
            "min      0.089029    0.366544     3.0  \n",
            "25%      0.181799    0.446788     3.0  \n",
            "50%      0.221439    0.472744     3.0  \n",
            "75%      0.295624    0.566602     3.0  \n",
            "max      0.521847    0.760589     3.0  \n"
          ]
        }
      ],
      "source": [
        "## Análise de características da classe osso\n",
        "\n",
        "directory = 'drive/MyDrive/Visão/Train/bone'\n",
        "bone = pd.DataFrame(0,index=range(0,126),columns=['major_axis_length','minor_axis_length','euler_number','eccentricity','extent','solidity'])\n",
        "index=0\n",
        "for filename in os.scandir(directory): \n",
        "    if filename.is_file(): \n",
        "      img = io.imread(filename.path)\n",
        "      label_img = label(img)\n",
        "      props = regionprops_table(label_img, properties=['major_axis_length','minor_axis_length','euler_number','eccentricity','extent','solidity'])\n",
        "      df1=pd.DataFrame(props)\n",
        "      bone.iloc[index] = df1.iloc[0]\n",
        "      index+=1\n",
        "\n",
        "labels = pd.DataFrame(0,index=range(0,126),columns=['Labels']) \n",
        "labels.Labels = 3\n",
        "bone['Labels'] = labels #cria uma coluna de labels com 1 para todos os morcegos\n",
        "\n",
        "print(bone)\n",
        "print(bone.describe()) ## solidity é o que melhor descreve a maçã"
      ]
    },
    {
      "cell_type": "markdown",
      "metadata": {
        "id": "xJSHrgS3FPDW"
      },
      "source": [
        "Nó código imediatamente abaixo observa-se o passo de validação aplicado por meio do K-fold em: sklearn.model_selection.GridSearchCV (nos quadros que retornam matriz de confusão)"
      ]
    },
    {
      "cell_type": "code",
      "execution_count": null,
      "metadata": {
        "id": "3wB_QgTM01ro"
      },
      "outputs": [],
      "source": [
        "##SPLIT do conjunto de treino para validação e normalização de ambos\n",
        "\n",
        "frames = [apple,bat,beetle,bone]\n",
        "df_train = pd.concat(frames) #faz a união dos dataframes\n",
        "\n",
        "df_train = (df_train.drop(columns=['major_axis_length','minor_axis_length'])).copy() #eliminando características que demonstraram não serem úteis para classificação\n",
        "\n",
        "y_train = df_train.Labels #monta coluna de classificadores\n",
        "X_train = df_train.drop(columns=['Labels']) #monta conjunto de dados sem os classificadores\n",
        "\n",
        "#normalização utilizando z_score (baseado na média e desvio padrão)\n",
        "X_train_norm = stats.zscore(X_train) "
      ]
    },
    {
      "cell_type": "markdown",
      "source": [
        "Abaixo é apresentado o código para organização do conjunto de teste em um DataFrame de dados e um vetor de rótulos."
      ],
      "metadata": {
        "id": "PLOQ4KEm8kYh"
      }
    },
    {
      "cell_type": "code",
      "execution_count": null,
      "metadata": {
        "id": "LiEhhe2-8lxs"
      },
      "outputs": [],
      "source": [
        "##apple\n",
        "directory = 'drive/MyDrive/Visão/mpeg7_4classes_aug_x8_work/Test/apple'\n",
        "apple = pd.DataFrame(0,index=range(0,54),columns=['euler_number','eccentricity','extent','solidity'])\n",
        "index=0\n",
        "for filename in os.scandir(directory): \n",
        "    if filename.is_file(): \n",
        "      img = io.imread(filename.path)\n",
        "      label_img = label(img)\n",
        "      props = regionprops_table(label_img, properties=['euler_number','eccentricity','extent','solidity'])\n",
        "      df1=pd.DataFrame(props)\n",
        "      apple.iloc[index] = df1.iloc[0]\n",
        "      index+=1\n",
        "\n",
        "labels = pd.DataFrame(0,index=range(0,54),columns=['Labels']) \n",
        "labels.Labels = 0\n",
        "apple['Labels'] = labels #cria uma coluna de labels com 1 para todos os morcegos\n",
        "\n",
        "## bat\n",
        "directory = 'drive/MyDrive/Visão/mpeg7_4classes_aug_x8_work/Test/bat'\n",
        "bat = pd.DataFrame(0,index=range(0,54),columns=['euler_number','eccentricity','extent','solidity'])\n",
        "index=0\n",
        "for filename in os.scandir(directory): \n",
        "    if filename.is_file(): \n",
        "      img = io.imread(filename.path)\n",
        "      label_img = label(img)\n",
        "      props = regionprops_table(label_img, properties=['euler_number','eccentricity','extent','solidity'])\n",
        "      df1=pd.DataFrame(props)\n",
        "      bat.iloc[index] = df1.iloc[0]\n",
        "      index+=1\n",
        "\n",
        "labels = pd.DataFrame(0,index=range(0,54),columns=['Labels']) \n",
        "labels.Labels = 1\n",
        "bat['Labels'] = labels #cria uma coluna de labels com 1 para todos os morcegos\n",
        "\n",
        "##beetle\n",
        "directory = 'drive/MyDrive/Visão/mpeg7_4classes_aug_x8_work/Test/beetle'\n",
        "beetle = pd.DataFrame(0,index=range(0,54),columns=['euler_number','eccentricity','extent','solidity'])\n",
        "index=0\n",
        "for filename in os.scandir(directory): \n",
        "    if filename.is_file(): \n",
        "      img = io.imread(filename.path)\n",
        "      label_img = label(img)\n",
        "      props = regionprops_table(label_img, properties=['euler_number','eccentricity','extent','solidity'])\n",
        "      df1=pd.DataFrame(props)\n",
        "      beetle.iloc[index] = df1.iloc[0]\n",
        "      index+=1\n",
        "\n",
        "labels = pd.DataFrame(0,index=range(0,54),columns=['Labels']) \n",
        "labels.Labels = 2\n",
        "beetle['Labels'] = labels #cria uma coluna de labels com 1 para todos os morcegos\n",
        "\n",
        "##bone\n",
        "directory = 'drive/MyDrive/Visão/mpeg7_4classes_aug_x8_work/Test/bone'\n",
        "bone = pd.DataFrame(0,index=range(0,54),columns=['euler_number','eccentricity','extent','solidity'])\n",
        "index=0\n",
        "for filename in os.scandir(directory): \n",
        "    if filename.is_file(): \n",
        "      img = io.imread(filename.path)\n",
        "      label_img = label(img)\n",
        "      props = regionprops_table(label_img, properties=['euler_number','eccentricity','extent','solidity'])\n",
        "      df1=pd.DataFrame(props)\n",
        "      bone.iloc[index] = df1.iloc[0]\n",
        "      index+=1\n",
        "\n",
        "labels = pd.DataFrame(0,index=range(0,54),columns=['Labels']) \n",
        "labels.Labels = 3\n",
        "bone['Labels'] = labels #cria uma coluna de labels com 1 para todos os morcegos\n",
        "\n",
        "##unindo os dataframes em um só de teste\n",
        "frames = [apple,bat,beetle,bone]\n",
        "df_test = pd.concat(frames) #faz a união dos dataframes\n",
        "\n",
        "##separando dados dos rótulos\n",
        "y_test = df_test.Labels #monta coluna de classificadores\n",
        "df_test_data = (df_test.drop(columns=['Labels'])).copy() #monta conjunto de dados sem os classificadores\n",
        "\n",
        "##normalizando os dados de teste\n",
        "X_test_norm = stats.zscore(df_test_data) \n"
      ]
    },
    {
      "cell_type": "markdown",
      "metadata": {
        "id": "uU6sQtPw8mcT"
      },
      "source": [
        "Kernels do SVM são funções que sistematizam a classificação de objetos, preferencialmente em mais de duas dimensões. Abaixo estão citadas alguns dos kernels do método SVM e que foram utilizados nesta prática:\n",
        "\n",
        "1.  **Kernel Polinomial** ({‘poly’}): utilizado para classes não linearmente separáveis. Parâmetros de otimização = gamma(inclinação do plano),c(constante) e d é o grau polinomial;\n",
        "2.  **Kernel Gaussiano** (Radial Basis Function - {'rbf'}): é muito sensível a ruidos e seu parâmetro de espalhamento é muito sensível. Caso seja superestimado o Kernel perde a vantagem da análise não linear;\n",
        "3.   **Kernel Sigmoidal** ({‘sigmoid’}): y atua como escala dos dados e c como parâmetro de deslocamento do hiperplano de separação;\n",
        "4.   **Kernel Linear** ({‘linear’}): para efeito de comparação foi utilizada uma função de separação linear.\n"
      ]
    },
    {
      "cell_type": "code",
      "execution_count": null,
      "metadata": {
        "colab": {
          "base_uri": "https://localhost:8080/",
          "height": 752
        },
        "id": "9ughiMIssAO9",
        "outputId": "82bd6225-6e0c-47ea-87b3-afc84df7c6a1"
      },
      "outputs": [
        {
          "output_type": "stream",
          "name": "stdout",
          "text": [
            "os melhores parametros são {'C': 10, 'gamma': 1, 'kernel': 'rbf'}\n",
            "Métricas da Matriz de Confusão de Teste do Kernel Gaussiano(54 elementos de cada classe):\n",
            "                      0         1         2         3\n",
            "acuracia       0.981481  0.981481  0.981481  0.981481\n",
            "precisao            1.0       1.0  0.964286  0.964286\n",
            "sensitividade       1.0  0.925926       1.0       1.0\n",
            "f1_score            1.0  0.961538  0.981818  0.981818\n"
          ]
        },
        {
          "output_type": "stream",
          "name": "stderr",
          "text": [
            "/usr/local/lib/python3.8/dist-packages/sklearn/utils/deprecation.py:87: FutureWarning: Function plot_confusion_matrix is deprecated; Function `plot_confusion_matrix` is deprecated in 1.0 and will be removed in 1.2. Use one of the class methods: ConfusionMatrixDisplay.from_predictions or ConfusionMatrixDisplay.from_estimator.\n",
            "  warnings.warn(msg, category=FutureWarning)\n",
            "/usr/local/lib/python3.8/dist-packages/sklearn/utils/deprecation.py:87: FutureWarning: Function plot_confusion_matrix is deprecated; Function `plot_confusion_matrix` is deprecated in 1.0 and will be removed in 1.2. Use one of the class methods: ConfusionMatrixDisplay.from_predictions or ConfusionMatrixDisplay.from_estimator.\n",
            "  warnings.warn(msg, category=FutureWarning)\n"
          ]
        },
        {
          "output_type": "display_data",
          "data": {
            "text/plain": [
              "<Figure size 432x288 with 2 Axes>"
            ],
            "image/png": "[encoded data removed]"
          },
          "metadata": {
            "needs_background": "light"
          }
        },
        {
          "output_type": "display_data",
          "data": {
            "text/plain": [
              "<Figure size 432x288 with 2 Axes>"
            ],
            "image/png": "[encoded data removed]"
          },
          "metadata": {
            "needs_background": "light"
          }
        }
      ],
      "source": [
        "##Aplicação do Kernel Gaussiano\n",
        "\n",
        "# Definição dos parâmetros de teste necessários\n",
        "param_grid = [\n",
        "    {'C':[0.5,1,3,5,10,100],\n",
        "     'gamma':['scale',1,0.1,0.01,0.001,0.0001],\n",
        "     'kernel':['rbf']}\n",
        "]\n",
        "# CV = número de folds para validação (K-Fold), Verbose=0 faz retornar apenas a saída da melhor seleção de parametros\n",
        "# Scoring=mediade de ranking das melhores combinações de parâmetros, param_grid=forma de leitura dos parâmetros sendo dicionário\n",
        "# SVC=SVM sendo chamado para classificações\n",
        "\n",
        "optimal_params = model_selection.GridSearchCV(\n",
        "    SVC(random_state=393),\n",
        "    param_grid,\n",
        "    cv=10,\n",
        "    scoring='accuracy',\n",
        "    verbose=0\n",
        ")\n",
        "gauss=optimal_params.fit(X_train_norm,y_train)\n",
        "\n",
        "print(f'os melhores parametros são {optimal_params.best_params_}')\n",
        "\n",
        "#Matriz de Confusão do treino\n",
        "plot_confusion_matrix(gauss,X_train_norm,y_train,values_format='d',display_labels=['0','1','2','3'])\n",
        "SVC(random_state=393)\n",
        "\n",
        "#Matriz de Confusão do teste de predição\n",
        "y_pred=gauss.predict(X_test_norm)\n",
        "plot_confusion_matrix(gauss,X_test_norm,y_test,values_format='d',display_labels=['0','1','2','3'])\n",
        "\n",
        "metricas = pd.DataFrame(index = ['acuracia','precisao','sensitividade','f1_score'],columns=['0','1','2','3'])\n",
        "metricas.iloc[0] = accuracy_score(y_test, y_pred)\n",
        "metricas.iloc[1] = precision_score(y_test, y_pred, average=None)\n",
        "metricas.iloc[2] = recall_score(y_test, y_pred, average=None)\n",
        "metricas.iloc[3] = f1_score(y_test, y_pred, average=None)\n",
        "\n",
        "print('Métricas da Matriz de Confusão de Teste do Kernel Gaussiano(54 elementos de cada classe):')\n",
        "print(metricas)"
      ]
    },
    {
      "cell_type": "code",
      "execution_count": null,
      "metadata": {
        "colab": {
          "base_uri": "https://localhost:8080/",
          "height": 752
        },
        "id": "ZSS1hYvpkqrV",
        "outputId": "7ee4c3f0-9bdb-40ef-f10c-347627756bf2"
      },
      "outputs": [
        {
          "output_type": "stream",
          "name": "stdout",
          "text": [
            "{'C': 5, 'degree': 1, 'gamma': 1, 'kernel': 'poly'}\n",
            "Métricas da Matriz de Confusão de Teste do Kernel Polinomial (54 elementos de cada classe):\n",
            "                      0         1         2         3\n",
            "acuracia       0.972222  0.972222  0.972222  0.972222\n",
            "precisao            1.0       1.0       1.0       0.9\n",
            "sensitividade       1.0  0.888889       1.0       1.0\n",
            "f1_score            1.0  0.941176       1.0  0.947368\n"
          ]
        },
        {
          "output_type": "stream",
          "name": "stderr",
          "text": [
            "/usr/local/lib/python3.8/dist-packages/sklearn/utils/deprecation.py:87: FutureWarning: Function plot_confusion_matrix is deprecated; Function `plot_confusion_matrix` is deprecated in 1.0 and will be removed in 1.2. Use one of the class methods: ConfusionMatrixDisplay.from_predictions or ConfusionMatrixDisplay.from_estimator.\n",
            "  warnings.warn(msg, category=FutureWarning)\n",
            "/usr/local/lib/python3.8/dist-packages/sklearn/utils/deprecation.py:87: FutureWarning: Function plot_confusion_matrix is deprecated; Function `plot_confusion_matrix` is deprecated in 1.0 and will be removed in 1.2. Use one of the class methods: ConfusionMatrixDisplay.from_predictions or ConfusionMatrixDisplay.from_estimator.\n",
            "  warnings.warn(msg, category=FutureWarning)\n"
          ]
        },
        {
          "output_type": "display_data",
          "data": {
            "text/plain": [
              "<Figure size 432x288 with 2 Axes>"
            ],
            "image/png": "[encoded data removed]"
          },
          "metadata": {
            "needs_background": "light"
          }
        },
        {
          "output_type": "display_data",
          "data": {
            "text/plain": [
              "<Figure size 432x288 with 2 Axes>"
            ],
            "image/png": "[encoded data removed]"
          },
          "metadata": {
            "needs_background": "light"
          }
        }
      ],
      "source": [
        "param_grid = [\n",
        "    {'C':[0.5,1,3,5,10,100],\n",
        "     'gamma':['scale',1,0.1,0.01,0.001,0.0001],\n",
        "     'degree':[0,0.1,0.5,1,1.5,2,2.5,3,3.5,4,4.5,5],\n",
        "     'kernel':['poly']}\n",
        "]\n",
        "optimal_params = model_selection.GridSearchCV(\n",
        "    SVC(random_state=393),\n",
        "    param_grid,\n",
        "    cv=10,\n",
        "    scoring='accuracy',\n",
        "    verbose=0\n",
        ") \n",
        "poly=optimal_params.fit(X_train_norm,y_train)\n",
        "print(optimal_params.best_params_)\n",
        "plot_confusion_matrix(poly,X_train_norm,y_train,values_format='d',display_labels=['0','1','2','3'])\n",
        "\n",
        "SVC(random_state=393)\n",
        "y_pred=poly.predict(X_test_norm)\n",
        "plot_confusion_matrix(poly,X_test_norm,y_test,values_format='d',display_labels=['0','1','2','3'])\n",
        "\n",
        "metricas = pd.DataFrame(index = ['acuracia','precisao','sensitividade','f1_score'],columns=['0','1','2','3'])\n",
        "metricas.iloc[0] = accuracy_score(y_test, y_pred)\n",
        "metricas.iloc[1] = precision_score(y_test, y_pred, average=None)\n",
        "metricas.iloc[2] = recall_score(y_test, y_pred, average=None)\n",
        "metricas.iloc[3] = f1_score(y_test, y_pred, average=None)\n",
        "\n",
        "print('Métricas da Matriz de Confusão de Teste do Kernel Polinomial (54 elementos de cada classe):')\n",
        "print(metricas)"
      ]
    },
    {
      "cell_type": "code",
      "execution_count": null,
      "metadata": {
        "id": "WjjNlUfionR1",
        "colab": {
          "base_uri": "https://localhost:8080/",
          "height": 752
        },
        "outputId": "0d615646-48d2-404c-ca1d-744ebf2812ba"
      },
      "outputs": [
        {
          "output_type": "stream",
          "name": "stdout",
          "text": [
            "{'C': 100, 'gamma': 0.01, 'kernel': 'sigmoid'}\n",
            "Métricas da Matriz de Confusão de Teste do Kernel Sigmoidal(54 elementos de cada classe):\n",
            "                      0         1         2         3\n",
            "acuracia       0.972222  0.972222  0.972222  0.972222\n",
            "precisao            1.0       1.0       1.0       0.9\n",
            "sensitividade       1.0  0.888889       1.0       1.0\n",
            "f1_score            1.0  0.941176       1.0  0.947368\n"
          ]
        },
        {
          "output_type": "stream",
          "name": "stderr",
          "text": [
            "/usr/local/lib/python3.8/dist-packages/sklearn/utils/deprecation.py:87: FutureWarning: Function plot_confusion_matrix is deprecated; Function `plot_confusion_matrix` is deprecated in 1.0 and will be removed in 1.2. Use one of the class methods: ConfusionMatrixDisplay.from_predictions or ConfusionMatrixDisplay.from_estimator.\n",
            "  warnings.warn(msg, category=FutureWarning)\n",
            "/usr/local/lib/python3.8/dist-packages/sklearn/utils/deprecation.py:87: FutureWarning: Function plot_confusion_matrix is deprecated; Function `plot_confusion_matrix` is deprecated in 1.0 and will be removed in 1.2. Use one of the class methods: ConfusionMatrixDisplay.from_predictions or ConfusionMatrixDisplay.from_estimator.\n",
            "  warnings.warn(msg, category=FutureWarning)\n"
          ]
        },
        {
          "output_type": "display_data",
          "data": {
            "text/plain": [
              "<Figure size 432x288 with 2 Axes>"
            ],
            "image/png": "[encoded data removed]"
          },
          "metadata": {
            "needs_background": "light"
          }
        },
        {
          "output_type": "display_data",
          "data": {
            "text/plain": [
              "<Figure size 432x288 with 2 Axes>"
            ],
            "image/png": "[encoded data removed]"
          },
          "metadata": {
            "needs_background": "light"
          }
        }
      ],
      "source": [
        "param_grid = [\n",
        "    {'C':[0.5,1,3,5,10,100],\n",
        "     'gamma':['scale',1,0.1,0.01,0.001,0.0001],\n",
        "     'kernel':['sigmoid']}\n",
        "]\n",
        "optimal_params = model_selection.GridSearchCV(\n",
        "    SVC(random_state=393),\n",
        "    param_grid,\n",
        "    cv=10,\n",
        "    scoring='accuracy',\n",
        "    verbose=0\n",
        ")\n",
        "sigmoid=optimal_params.fit(X_train_norm,y_train)\n",
        "print(optimal_params.best_params_)\n",
        "mat_train = plot_confusion_matrix(sigmoid,X_train_norm,y_train,values_format='d',display_labels=['0','1','2','3'])\n",
        "\n",
        "SVC(random_state=393)\n",
        "y_pred=sigmoid.predict(X_test_norm)\n",
        "mat_test = plot_confusion_matrix(sigmoid,X_test_norm,y_test,values_format='d',display_labels=['0','1','2','3'])\n",
        "\n",
        "metricas = pd.DataFrame(index = ['acuracia','precisao','sensitividade','f1_score'],columns=['0','1','2','3'])\n",
        "metricas.iloc[0] = accuracy_score(y_test, y_pred)\n",
        "metricas.iloc[1] = precision_score(y_test, y_pred, average=None)\n",
        "metricas.iloc[2] = recall_score(y_test, y_pred, average=None)\n",
        "metricas.iloc[3] = f1_score(y_test, y_pred, average=None)\n",
        "\n",
        "print('Métricas da Matriz de Confusão de Teste do Kernel Sigmoidal(54 elementos de cada classe):')\n",
        "print(metricas)\n"
      ]
    },
    {
      "cell_type": "code",
      "execution_count": null,
      "metadata": {
        "id": "psSOk1v72qD_",
        "colab": {
          "base_uri": "https://localhost:8080/",
          "height": 752
        },
        "outputId": "24d423de-7f1a-4dec-f719-168354d67362"
      },
      "outputs": [
        {
          "output_type": "stream",
          "name": "stdout",
          "text": [
            "{'C': 5, 'kernel': 'linear'}\n",
            "Métricas da Matriz de Confusão de Teste do Kernel Linear(54 elementos de cada classe):\n",
            "                      0         1         2         3\n",
            "acuracia       0.972222  0.972222  0.972222  0.972222\n",
            "precisao            1.0       1.0       1.0       0.9\n",
            "sensitividade       1.0  0.888889       1.0       1.0\n",
            "f1_score            1.0  0.941176       1.0  0.947368\n"
          ]
        },
        {
          "output_type": "stream",
          "name": "stderr",
          "text": [
            "/usr/local/lib/python3.8/dist-packages/sklearn/utils/deprecation.py:87: FutureWarning: Function plot_confusion_matrix is deprecated; Function `plot_confusion_matrix` is deprecated in 1.0 and will be removed in 1.2. Use one of the class methods: ConfusionMatrixDisplay.from_predictions or ConfusionMatrixDisplay.from_estimator.\n",
            "  warnings.warn(msg, category=FutureWarning)\n",
            "/usr/local/lib/python3.8/dist-packages/sklearn/utils/deprecation.py:87: FutureWarning: Function plot_confusion_matrix is deprecated; Function `plot_confusion_matrix` is deprecated in 1.0 and will be removed in 1.2. Use one of the class methods: ConfusionMatrixDisplay.from_predictions or ConfusionMatrixDisplay.from_estimator.\n",
            "  warnings.warn(msg, category=FutureWarning)\n"
          ]
        },
        {
          "output_type": "display_data",
          "data": {
            "text/plain": [
              "<Figure size 432x288 with 2 Axes>"
            ],
            "image/png": "[encoded data removed]"
          },
          "metadata": {
            "needs_background": "light"
          }
        },
        {
          "output_type": "display_data",
          "data": {
            "text/plain": [
              "<Figure size 432x288 with 2 Axes>"
            ],
            "image/png": "[encoded data removed]"
          },
          "metadata": {
            "needs_background": "light"
          }
        }
      ],
      "source": [
        "param_grid = [\n",
        "    {'C':[0.5,1,3,5,10,100],\n",
        "     'kernel':['linear']}\n",
        "]\n",
        "\n",
        "optimal_params = model_selection.GridSearchCV(\n",
        "    SVC(random_state=393),\n",
        "    param_grid,\n",
        "    cv=10,\n",
        "    scoring='accuracy',\n",
        "    verbose=0\n",
        ")\n",
        "\n",
        "linear=optimal_params.fit(X_train_norm,y_train)\n",
        "print(optimal_params.best_params_)\n",
        "plot_confusion_matrix(linear,X_train_norm,y_train,values_format='d',display_labels=['0','1','2','3'])\n",
        "\n",
        "SVC(random_state=393)\n",
        "y_pred=linear.predict(X_test_norm)\n",
        "plot_confusion_matrix(linear,X_test_norm,y_test,values_format='d',display_labels=['0','1','2','3'])\n",
        "\n",
        "metricas = pd.DataFrame(index = ['acuracia','precisao','sensitividade','f1_score'],columns=['0','1','2','3'])\n",
        "metricas.iloc[0] = accuracy_score(y_test, y_pred)\n",
        "metricas.iloc[1] = precision_score(y_test, y_pred, average=None)\n",
        "metricas.iloc[2] = recall_score(y_test, y_pred, average=None)\n",
        "metricas.iloc[3] = f1_score(y_test, y_pred, average=None)\n",
        "\n",
        "print('Métricas da Matriz de Confusão de Teste do Kernel Linear(54 elementos de cada classe):')\n",
        "print(metricas)"
      ]
    },
    {
      "cell_type": "markdown",
      "source": [
        "Conclui-se que o melhor modelo para este data-set foi o Gaussiano (*{'C': 10, 'gamma': 1, 'kernel': 'rbf'}*). O conjunto utilizado se apresentou em versão *lite* devido o estudo ter sido um projeto de disciplina. Porém, recomenda-se a reprodução da metodologia para o conjunto íntegro, uma vez que o método *Support Vector Machine* não lida tão bem com amostras pequenas."
      ],
      "metadata": {
        "id": "kwlnZz4xB_zU"
      }
    },
    {
      "cell_type": "markdown",
      "metadata": {
        "id": "Q2KlyQJE6jrT"
      },
      "source": []
    }
  ],
  "metadata": {
    "accelerator": "GPU",
    "colab": {
      "provenance": [],
      "include_colab_link": true
    },
    "gpuClass": "standard",
    "kernelspec": {
      "display_name": "Python 3",
      "name": "python3"
    },
    "language_info": {
      "name": "python"
    }
  },
  "nbformat": 4,
  "nbformat_minor": 0
}